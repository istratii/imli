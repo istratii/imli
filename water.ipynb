{
 "cells": [
  {
   "cell_type": "markdown",
   "metadata": {},
   "source": [
    "# Water Discriminator\n"
   ]
  },
  {
   "cell_type": "markdown",
   "metadata": {},
   "source": [
    "It is possible to discriminate water by its Normalized Difference Water Index (NDWI). An index is computed by using a band of green and another one of the near IR. Then, a treshold is applied in order to discriminate water from anything else.\n",
    "\n",
    "$$NDWI = \\frac{Xgreen - Xnir}{Xgreen + Xnir}$$\n",
    "\n",
    "For now, it is supposed a good threshold for this is 0.3.\n",
    "\n",
    "Wikipedia suggests using 559 nm for the green band and 864 nm for the NIR one.\n",
    "\n",
    "The 144 bands cover [380-1050] nm.\n",
    "\n",
    "Thus, $$\\frac{1050-380+1}{144}=671$$\n",
    "\n",
    "$$\\frac{671}{144}=4.6597\\ \\textbf{nm per (or between) band}$$\n",
    "\n",
    "$$\\frac{559-380+1}{4.6597}=\\frac{180}{4.6597}=38.629\\approx{39}$$\n",
    "\n",
    "$$\\frac{864-380+1}{4.6597}=\\frac{485}{4.6597}=104.08395\\approx{104}$$\n",
    "\n",
    "Thereforce, the index of the green band is 39 and the one of the near IR is 104.\n",
    "\n",
    "To be more accurate, let's do a mean of the 38 and 39th bands for the green and respectively the mean of the 104 and 105th for the NIR.\n"
   ]
  },
  {
   "cell_type": "code",
   "execution_count": 1,
   "metadata": {},
   "outputs": [],
   "source": [
    "import numpy as np\n",
    "from utils import Classes"
   ]
  },
  {
   "cell_type": "code",
   "execution_count": 2,
   "metadata": {},
   "outputs": [],
   "source": [
    "hsi = np.load(\"data/hyperspectral.npy\")\n",
    "groundtruth = np.load(\"groundtruth/groundtruth.npy\")"
   ]
  },
  {
   "cell_type": "code",
   "execution_count": 3,
   "metadata": {},
   "outputs": [],
   "source": [
    "green = (hsi[:, :, 38] + hsi[:, :, 39]) / 2\n",
    "nir = (hsi[:, :, 104] + hsi[:, :, 105]) / 2"
   ]
  },
  {
   "cell_type": "code",
   "execution_count": 4,
   "metadata": {},
   "outputs": [],
   "source": [
    "mask = (green != 0.0) | (nir != 0.0)\n",
    "indexes = np.where(mask)\n",
    "ndwi = (green[mask] - nir[mask]) / (green[mask] + nir[mask])"
   ]
  },
  {
   "cell_type": "code",
   "execution_count": 5,
   "metadata": {},
   "outputs": [],
   "source": [
    "imgmask = np.zeros(hsi.shape[:-1])\n",
    "water_idx = np.where(ndwi >= 0.5)\n",
    "rr = indexes[0][water_idx]\n",
    "cc = indexes[1][water_idx]\n",
    "imgmask[rr, cc] = Classes.WATER"
   ]
  },
  {
   "cell_type": "markdown",
   "metadata": {},
   "source": [
    "### Color Map"
   ]
  },
  {
   "cell_type": "code",
   "execution_count": 6,
   "metadata": {},
   "outputs": [],
   "source": [
    "from matplotlib.colors import ListedColormap"
   ]
  },
  {
   "cell_type": "code",
   "execution_count": 7,
   "metadata": {},
   "outputs": [
    {
     "data": {
      "image/png": "[encoded data removed]",
      "text/html": [
       "<div style=\"vertical-align: middle;\"><strong>from_list</strong> </div><div class=\"cmap\"><img alt=\"from_list colormap\" title=\"from_list\" style=\"border: 1px solid #555;\" src=\"data:image/png;base64,iVBORw0KGgoAAAANSUhEUgAAAgAAAABACAYAAABsv8+/AAAAGHRFWHRUaXRsZQBmcm9tX2xpc3QgY29sb3JtYXBDL89FAAAAHnRFWHREZXNjcmlwdGlvbgBmcm9tX2xpc3QgY29sb3JtYXABtCnOAAAAMHRFWHRBdXRob3IATWF0cGxvdGxpYiB2My44LjMsIGh0dHBzOi8vbWF0cGxvdGxpYi5vcmeqnk4cAAAAMnRFWHRTb2Z0d2FyZQBNYXRwbG90bGliIHYzLjguMywgaHR0cHM6Ly9tYXRwbG90bGliLm9yZ4Q40TsAAAEqSURBVHic7daxDQAgEAOxh/13hi2gOHuCNJFuzcwZoOm4P1Tt3wMAgPcEAAAECQAACBIAABAkAAAgSAAAQJAAAIAgAQAAQQIAAIIEAAAECQAACBIAABAkAAAgSAAAQJAAAIAgAQAAQQIAAIIEAAAECQAACBIAABAkAAAgSAAAQJAAAIAgAQAAQQIAAIIEAAAECQAACBIAABAkAAAgSAAAQJAAAIAgAQAAQQIAAIIEAAAECQAACBIAABAkAAAgSAAAQJAAAIAgAQAAQQIAAIIEAAAECQAACBIAABAkAAAgSAAAQJAAAIAgAQAAQQIAAIIEAAAECQAACBIAABAkAAAgSAAAQJAAAIAgAQAAQQIAAIIEAAAECQAACBIAABAkAAAgSAAAQJAAAICgCy9kA33san4IAAAAAElFTkSuQmCC\"></div><div style=\"vertical-align: middle; max-width: 514px; display: flex; justify-content: space-between;\"><div style=\"float: left;\"><div title=\"#000000ff\" style=\"display: inline-block; width: 1em; height: 1em; margin: 0; vertical-align: middle; border: 1px solid #555; background-color: #000000ff;\"></div> under</div><div style=\"margin: 0 auto; display: inline-block;\">bad <div title=\"#00000000\" style=\"display: inline-block; width: 1em; height: 1em; margin: 0; vertical-align: middle; border: 1px solid #555; background-color: #00000000;\"></div></div><div style=\"float: right;\">over <div title=\"#00ffffff\" style=\"display: inline-block; width: 1em; height: 1em; margin: 0; vertical-align: middle; border: 1px solid #555; background-color: #00ffffff;\"></div></div>"
      ],
      "text/plain": [
       "<matplotlib.colors.ListedColormap at 0x75249daaf850>"
      ]
     },
     "execution_count": 7,
     "metadata": {},
     "output_type": "execute_result"
    }
   ],
   "source": [
    "cmap = ListedColormap(np.array([[[0.0, 0.0, 0.0]], [[0.0, 1.0, 1.0]]]))\n",
    "cmap"
   ]
  },
  {
   "cell_type": "markdown",
   "metadata": {},
   "source": [
    "### Display"
   ]
  },
  {
   "cell_type": "code",
   "execution_count": 8,
   "metadata": {},
   "outputs": [],
   "source": [
    "import matplotlib.pyplot as plt "
   ]
  },
  {
   "cell_type": "code",
   "execution_count": 9,
   "metadata": {},
   "outputs": [],
   "source": [
    "def display(img, cmap):\n",
    "    plt.figure(figsize=(15, 15))\n",
    "    plt.imshow(img, cmap=cmap)"
   ]
  },
  {
   "cell_type": "code",
   "execution_count": 10,
   "metadata": {},
   "outputs": [
    {
     "data": {
      "image/png": "[encoded data removed]",
      "text/plain": [
       "<Figure size 1500x1500 with 1 Axes>"
      ]
     },
     "metadata": {},
     "output_type": "display_data"
    }
   ],
   "source": [
    "display(imgmask, cmap)"
   ]
  },
  {
   "cell_type": "markdown",
   "metadata": {},
   "source": [
    "### Denoise"
   ]
  },
  {
   "cell_type": "code",
   "execution_count": 11,
   "metadata": {},
   "outputs": [],
   "source": [
    "imgmask[:, 1250:] = 0  # TODO, when shadow problem solved, remove"
   ]
  },
  {
   "cell_type": "code",
   "execution_count": 12,
   "metadata": {},
   "outputs": [],
   "source": [
    "from scipy.ndimage import median_filter"
   ]
  },
  {
   "cell_type": "code",
   "execution_count": 13,
   "metadata": {},
   "outputs": [],
   "source": [
    "imgmask = median_filter(imgmask, size=3)"
   ]
  },
  {
   "cell_type": "code",
   "execution_count": 14,
   "metadata": {},
   "outputs": [
    {
     "data": {
      "image/png": "[encoded data removed]",
      "text/plain": [
       "<Figure size 1500x1500 with 1 Axes>"
      ]
     },
     "metadata": {},
     "output_type": "display_data"
    }
   ],
   "source": [
    "display(imgmask, cmap)"
   ]
  },
  {
   "cell_type": "markdown",
   "metadata": {},
   "source": [
    "### Put in one function"
   ]
  },
  {
   "cell_type": "code",
   "execution_count": 15,
   "metadata": {},
   "outputs": [],
   "source": [
    "from scipy.ndimage import median_filter\n",
    "\n",
    "\n",
    "def water_discriminate(hsi, ndwi_threshold=0.5):\n",
    "    green = (hsi[:, :, 38] + hsi[:, :, 39]) / 2\n",
    "    nir = (hsi[:, :, 104] + hsi[:, :, 105]) / 2\n",
    "    mask = np.where((green != 0.0) | (nir != 0.0))\n",
    "    ndwi = (green[mask] - nir[mask]) / (green[mask] + nir[mask])\n",
    "    res = np.zeros(hsi.shape[:-1])\n",
    "    water_idx = np.where(ndwi >= ndwi_threshold)\n",
    "    rr, cc = indexes[0][water_idx], indexes[1][water_idx]\n",
    "    res[rr, cc] = Classes.WATER\n",
    "    res = median_filter(res, size=3)\n",
    "    res[:, 1250:] = Classes.UNKNOWN  # TODO, remove after shadow problem solved\n",
    "    return res"
   ]
  },
  {
   "cell_type": "markdown",
   "metadata": {},
   "source": [
    "### Test coincidence with groundtruth"
   ]
  },
  {
   "cell_type": "code",
   "execution_count": 16,
   "metadata": {},
   "outputs": [],
   "source": [
    "def score_water(groundtruth, y_pred):\n",
    "    water_mask = groundtruth == Classes.WATER\n",
    "    water_mask_pred = y_pred[water_mask] == Classes.WATER\n",
    "    return np.sum(water_mask_pred) / np.sum(water_mask)"
   ]
  },
  {
   "cell_type": "code",
   "execution_count": 17,
   "metadata": {},
   "outputs": [
    {
     "data": {
      "text/plain": [
       "0.7472527472527473"
      ]
     },
     "execution_count": 17,
     "metadata": {},
     "output_type": "execute_result"
    }
   ],
   "source": [
    "score_water(groundtruth, water_discriminate(hsi))"
   ]
  },
  {
   "cell_type": "markdown",
   "metadata": {},
   "source": [
    "### Search for best threshold"
   ]
  },
  {
   "cell_type": "code",
   "execution_count": 18,
   "metadata": {},
   "outputs": [],
   "source": [
    "def best_threshold(hsi, groundtruth, start=0.0, end=1.0, increment=0.01, debug=False):\n",
    "    best_score, best_threshold = float(\"-inf\"), None\n",
    "    while start < end:\n",
    "        y_pred = water_discriminate(hsi, start)\n",
    "        score = score_water(groundtruth, y_pred)\n",
    "        if debug:\n",
    "            print(start, score)\n",
    "        if score > best_score:\n",
    "            best_threshold = start\n",
    "            best_score = score\n",
    "        start += increment\n",
    "    return best_score, best_threshold"
   ]
  },
  {
   "cell_type": "code",
   "execution_count": 19,
   "metadata": {},
   "outputs": [
    {
     "data": {
      "text/plain": [
       "(0.9285714285714286, 0.0)"
      ]
     },
     "execution_count": 19,
     "metadata": {},
     "output_type": "execute_result"
    }
   ],
   "source": [
    "best_score, best_threshold = best_threshold(hsi, groundtruth)\n",
    "best_score, best_threshold"
   ]
  },
  {
   "cell_type": "code",
   "execution_count": 20,
   "metadata": {},
   "outputs": [
    {
     "data": {
      "text/plain": [
       "<matplotlib.image.AxesImage at 0x75246ab57b50>"
      ]
     },
     "execution_count": 20,
     "metadata": {},
     "output_type": "execute_result"
    },
    {
     "data": {
      "image/png": "[encoded data removed]",
      "text/plain": [
       "<Figure size 1500x1500 with 1 Axes>"
      ]
     },
     "metadata": {},
     "output_type": "display_data"
    }
   ],
   "source": [
    "img = water_discriminate(hsi, best_threshold)\n",
    "plt.figure(figsize=(15, 15))\n",
    "plt.imshow(imgmask, cmap=cmap)"
   ]
  }
 ],
 "metadata": {
  "kernelspec": {
   "display_name": "Python 3",
   "language": "python",
   "name": "python3"
  },
  "language_info": {
   "codemirror_mode": {
    "name": "ipython",
    "version": 3
   },
   "file_extension": ".py",
   "mimetype": "text/x-python",
   "name": "python",
   "nbconvert_exporter": "python",
   "pygments_lexer": "ipython3",
   "version": "3.11.6"
  }
 },
 "nbformat": 4,
 "nbformat_minor": 2
}
